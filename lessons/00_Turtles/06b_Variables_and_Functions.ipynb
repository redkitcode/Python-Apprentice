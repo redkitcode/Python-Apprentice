{
 "cells": [
  {
   "cell_type": "markdown",
   "metadata": {},
   "source": [
    "# Variables and Functions\n",
    "\n",
    "Here is one of the ways to solve the last assignment, making shapes with a\n",
    "loop:\n",
    "\n",
    "```python \n",
    "\n",
    "import turtle                           # Tell Python we want to work with the turtle\n",
    "turtle.setup(width=600, height=600)     # Set the size of the window\n",
    "\n",
    "tina = turtle.Turtle()                  # Create a turtle named tina\n",
    "\n",
    "for i in range(4):\n",
    "    tina.forward(150)                   # Move tina forward by the forward distance\n",
    "    tina.left(90)                       # Turn tina left by the left turn\n",
    "\n",
    "\n",
    "```\n",
    "\n",
    "Let's see if we can make this code even simpler. Notice that the code that draws\n",
    "the square has a range of `4` and left turn of `90` degrees, and $4*90 = 360$,\n",
    "and there are 360 degrees in a circle. The pentagram has a range of `5` and a\n",
    "left turn of `72` degrees, and $5*72=360$. Hmm... could we come up with a way to\n",
    "compute the angle for  any number of sides? To do that, we going to use\n",
    "variables and math. "
   ]
  },
  {
   "cell_type": "code",
   "execution_count": 9,
   "metadata": {},
   "outputs": [
    {
     "ename": "SyntaxError",
     "evalue": "Missing parentheses in call to 'print'. Did you mean print(...)? (2861386754.py, line 7)",
     "output_type": "error",
     "traceback": [
      "\u001b[0;36m  Cell \u001b[0;32mIn[9], line 7\u001b[0;36m\u001b[0m\n\u001b[0;31m    print\"hi this is the angle because idk\"() angle\u001b[0m\n\u001b[0m    ^\u001b[0m\n\u001b[0;31mSyntaxError\u001b[0m\u001b[0;31m:\u001b[0m Missing parentheses in call to 'print'. Did you mean print(...)?\n"
     ]
    }
   ],
   "source": [
    "# Run me\n",
    "# Compute the angle for a number of sides\n",
    "\n",
    "sides = 123\n",
    "angle = 360/sides\n",
    "\n",
    "print\"hi this is the angle because idk\"() angle\n"
   ]
  },
  {
   "cell_type": "markdown",
   "metadata": {},
   "source": [
    "If we want 6 sides the angle is 60 degrees, and sure enough, $60*6 = 360$.\n",
    "\n",
    "The words  `sides`  and `angle` are __variables__, which are like the names of boxes \n",
    "that can hold values. We can __assign__ values to variables, then use those variables \n",
    "in other places. \n",
    "\n",
    "```python \n",
    "\n",
    "sides = 4\n",
    "angle = 360/sides           # Calculate the angle from the number of sides. \n",
    "\n",
    "for i in range(sides):\n",
    "    tina.forward(150)       # Move tina forward by the forward distance\n",
    "    tina.left(angle)        # Turn tina left by the left turn\n",
    "\n",
    "```\n",
    "\n",
    "In this program, if you change the number that we assign to `sides`, the angle will change automatically!\n",
    "\n",
    "Let's see if the angles created by this equation seem correct. Fill in the\n",
    "'...' in the program in the cell below to calculate angles from sides: "
   ]
  },
  {
   "cell_type": "code",
   "execution_count": 11,
   "metadata": {},
   "outputs": [
    {
     "name": "stdout",
     "output_type": "stream",
     "text": [
      "Angle for  1  sides is  360.0\n",
      "Angle for  2  sides is  180.0\n",
      "Angle for  3  sides is  120.0\n",
      "Angle for  4  sides is  90.0\n",
      "Angle for  5  sides is  72.0\n",
      "Angle for  6  sides is  60.0\n",
      "Angle for  7  sides is  51.42857142857143\n",
      "Angle for  8  sides is  45.0\n",
      "Angle for  9  sides is  40.0\n",
      "Angle for  10  sides is  36.0\n",
      "Angle for  11  sides is  32.72727272727273\n",
      "Angle for  12  sides is  30.0\n",
      "Angle for  13  sides is  27.692307692307693\n",
      "Angle for  14  sides is  25.714285714285715\n",
      "Angle for  15  sides is  24.0\n",
      "Angle for  16  sides is  22.5\n",
      "Angle for  17  sides is  21.176470588235293\n",
      "Angle for  18  sides is  20.0\n",
      "Angle for  19  sides is  18.94736842105263\n",
      "Angle for  20  sides is  18.0\n",
      "Angle for  21  sides is  17.142857142857142\n",
      "Angle for  22  sides is  16.363636363636363\n",
      "Angle for  23  sides is  15.652173913043478\n",
      "Angle for  24  sides is  15.0\n",
      "Angle for  25  sides is  14.4\n",
      "Angle for  26  sides is  13.846153846153847\n",
      "Angle for  27  sides is  13.333333333333334\n",
      "Angle for  28  sides is  12.857142857142858\n",
      "Angle for  29  sides is  12.413793103448276\n",
      "Angle for  30  sides is  12.0\n",
      "Angle for  31  sides is  11.612903225806452\n",
      "Angle for  32  sides is  11.25\n",
      "Angle for  33  sides is  10.909090909090908\n",
      "Angle for  34  sides is  10.588235294117647\n",
      "Angle for  35  sides is  10.285714285714286\n",
      "Angle for  36  sides is  10.0\n",
      "Angle for  37  sides is  9.72972972972973\n",
      "Angle for  38  sides is  9.473684210526315\n",
      "Angle for  39  sides is  9.23076923076923\n",
      "Angle for  40  sides is  9.0\n",
      "Angle for  41  sides is  8.78048780487805\n",
      "Angle for  42  sides is  8.571428571428571\n",
      "Angle for  43  sides is  8.372093023255815\n",
      "Angle for  44  sides is  8.181818181818182\n",
      "Angle for  45  sides is  8.0\n",
      "Angle for  46  sides is  7.826086956521739\n",
      "Angle for  47  sides is  7.659574468085107\n",
      "Angle for  48  sides is  7.5\n",
      "Angle for  49  sides is  7.346938775510204\n"
     ]
    }
   ],
   "source": [
    "# Run me!\n",
    "\n",
    "for sides in range(1, 50):\n",
    "    angle = 360/sides\n",
    "    print(\"Angle for \", sides, \" sides is \", angle)\n",
    "   "
   ]
  },
  {
   "cell_type": "markdown",
   "metadata": {},
   "source": [
    "# Functions\n",
    "\n",
    "We can make another improvement in our program; by grouping \n",
    "the commands to create a shape into a __function__. Here is an example of a function:"
   ]
  },
  {
   "cell_type": "code",
   "execution_count": 18,
   "metadata": {},
   "outputs": [
    {
     "name": "stdout",
     "output_type": "stream",
     "text": [
      "oh yeah mr neptune AAAAAAAAAAAAAAAAAAAAAAAAAAA\n",
      "oh yeah mr krabs AAAAAAAAAAAAAAAAAAAAAAAAAAA\n",
      "oh yeah mrs puff AAAAAAAAAAAAAAAAAAAAAAAAAAA\n",
      "oh yeah mr bubble bass AAAAAAAAAAAAAAAAAAAAAAAAAAA\n",
      "oh yeah mrs karen AAAAAAAAAAAAAAAAAAAAAAAAAAA\n"
     ]
    }
   ],
   "source": [
    "import random\n",
    "def say_hello(names, times):         # define the function, and give it a name.  'name' and 'times' are parameters\n",
    "\n",
    "    for i in range(times):          # This is the body of the function\n",
    "        print(\"oh yeah\", random.choice(names), \"AAAAAAAAAAAAAAAAAAAAAAAAAAA\")\n",
    "names = [\"mr krabs\", \"mr squidward\", \"mr plankton\", \"mr neptune\", \"mr larry\", \"mr bubble bass\", \"mrs karen\", \"mrs puff\", \"miss sandy\"]\n",
    "say_hello(names, 5)                # Call the function, and pass it two arguments"
   ]
  },
  {
   "cell_type": "markdown",
   "metadata": {},
   "source": [
    "The line that starts with 'def' is the start of the function definition, and the\n",
    "last line is where we call the function -- we actually run it.   Try calling the\n",
    "function again with different parameters."
   ]
  },
  {
   "cell_type": "code",
   "execution_count": 10,
   "metadata": {},
   "outputs": [
    {
     "ename": "NameError",
     "evalue": "name 'say_hello' is not defined",
     "output_type": "error",
     "traceback": [
      "\u001b[0;31m---------------------------------------------------------------------------\u001b[0m",
      "\u001b[0;31mNameError\u001b[0m                                 Traceback (most recent call last)",
      "Cell \u001b[0;32mIn[10], line 1\u001b[0m\n\u001b[0;32m----> 1\u001b[0m \u001b[43msay_hello\u001b[49m(\u001b[38;5;124m'\u001b[39m\u001b[38;5;124mbob\u001b[39m\u001b[38;5;124m'\u001b[39m,\u001b[38;5;241m3\u001b[39m)\n",
      "\u001b[0;31mNameError\u001b[0m: name 'say_hello' is not defined"
     ]
    }
   ],
   "source": [
    "say_hello('bob',3)"
   ]
  },
  {
   "cell_type": "code",
   "execution_count": null,
   "metadata": {},
   "outputs": [],
   "source": []
  }
 ],
 "metadata": {
  "kernelspec": {
   "display_name": "Python 3",
   "language": "python",
   "name": "python3"
  },
  "language_info": {
   "codemirror_mode": {
    "name": "ipython",
    "version": 3
   },
   "file_extension": ".py",
   "mimetype": "text/x-python",
   "name": "python",
   "nbconvert_exporter": "python",
   "pygments_lexer": "ipython3",
   "version": "3.12.4"
  }
 },
 "nbformat": 4,
 "nbformat_minor": 2
}
